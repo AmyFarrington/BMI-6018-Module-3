{
 "cells": [
  {
   "cell_type": "code",
   "execution_count": 1,
   "id": "367710fd",
   "metadata": {},
   "outputs": [
    {
     "name": "stdout",
     "output_type": "stream",
     "text": [
      "[0, 1, 2, 3, 4, 5, 6, 7, 8, 9]\n"
     ]
    }
   ],
   "source": [
    "one_a = [0, 1, 2, 3, 4, 5, 6, 7, 8, 9]\n",
    "print(one_a)"
   ]
  },
  {
   "cell_type": "code",
   "execution_count": 2,
   "id": "3c8918aa-fa41-44fe-acde-198e9be342d6",
   "metadata": {},
   "outputs": [
    {
     "name": "stdout",
     "output_type": "stream",
     "text": [
      "[0, 1, 2, 3, 4, 3, 5, 6, 7, 8, 9]\n"
     ]
    }
   ],
   "source": [
    "one_b = one_a.insert(5, 3)\n",
    "print(one_a)"
   ]
  },
  {
   "cell_type": "code",
   "execution_count": 3,
   "id": "837c429a-5080-485d-8729-4cd76e230a1c",
   "metadata": {},
   "outputs": [
    {
     "name": "stdout",
     "output_type": "stream",
     "text": [
      "[0.0, 1.0, 2.0, 3.0, 4.0, 3.0, 5.0, 6.0, 7.0, 8.0, 9.0]\n"
     ]
    }
   ],
   "source": [
    "one_c = [float(x) for x in one_a]\n",
    "print(one_c)"
   ]
  },
  {
   "cell_type": "code",
   "execution_count": 4,
   "id": "0ea17f03-1750-49a8-9864-77e6486c2292",
   "metadata": {},
   "outputs": [
    {
     "name": "stdout",
     "output_type": "stream",
     "text": [
      "{0, 1, 2, 3, 4, 5, 6, 7, 8, 9}\n"
     ]
    }
   ],
   "source": [
    "one_d = set(one_a)\n",
    "print(one_d)"
   ]
  },
  {
   "cell_type": "code",
   "execution_count": 5,
   "id": "2011693a-dfb8-4979-8aac-0dbac9f8a8e1",
   "metadata": {
    "tags": []
   },
   "outputs": [
    {
     "name": "stdout",
     "output_type": "stream",
     "text": [
      "{0, 1, 2, 3, 4, 5, 6, 7, 8, 9, 10}\n"
     ]
    }
   ],
   "source": [
    "one_e = one_d.add(int(10))\n",
    "print(one_d)"
   ]
  },
  {
   "cell_type": "code",
   "execution_count": 6,
   "id": "8257abb2-dc20-473b-b7a1-79711b7160e9",
   "metadata": {},
   "outputs": [
    {
     "name": "stdout",
     "output_type": "stream",
     "text": [
      "{1, 2, 3, 4, 5, 6, 7, 8, 9, 10}\n"
     ]
    }
   ],
   "source": [
    "one_f = one_d.pop()\n",
    "print(one_d)"
   ]
  },
  {
   "cell_type": "code",
   "execution_count": 7,
   "id": "bb748b22-57da-4c2b-be21-c064f0d77c80",
   "metadata": {},
   "outputs": [
    {
     "name": "stdout",
     "output_type": "stream",
     "text": [
      "10\n"
     ]
    }
   ],
   "source": [
    "one_g = len(one_d)\n",
    "print(one_g)"
   ]
  },
  {
   "cell_type": "code",
   "execution_count": 8,
   "id": "d08e7cd0-f845-481d-bafd-7172e76c93cb",
   "metadata": {},
   "outputs": [
    {
     "name": "stdout",
     "output_type": "stream",
     "text": [
      "False\n"
     ]
    }
   ],
   "source": [
    "one_h = len(one_a) == (one_f)\n",
    "print (one_h)"
   ]
  },
  {
   "cell_type": "code",
   "execution_count": 9,
   "id": "4a0d1f72-ee3d-4ede-8812-32615cdad6ab",
   "metadata": {},
   "outputs": [
    {
     "name": "stdout",
     "output_type": "stream",
     "text": [
      "[1, 2, 3, 4, 5, 6, 7, 8, 9, 10, 0, 1, 2, 3, 4, 3, 5, 6, 7, 8, 9]\n"
     ]
    }
   ],
   "source": [
    "one_i = list(one_d) + one_a\n",
    "print(one_i)"
   ]
  },
  {
   "cell_type": "code",
   "execution_count": 10,
   "id": "873f1e64-38d1-426b-9da3-10e2bf0ba809",
   "metadata": {},
   "outputs": [
    {
     "name": "stdout",
     "output_type": "stream",
     "text": [
      "{0, 1, 2, 3, 4, 5, 6, 7, 8, 9, 10}\n"
     ]
    }
   ],
   "source": [
    "one_j = set(one_i)\n",
    "print(one_j)"
   ]
  },
  {
   "cell_type": "code",
   "execution_count": 11,
   "id": "f1a56ca8-d9c7-48d2-a58a-e5df43061a39",
   "metadata": {
    "tags": []
   },
   "outputs": [
    {
     "name": "stdout",
     "output_type": "stream",
     "text": [
      "11\n"
     ]
    }
   ],
   "source": [
    "one_k = len(one_j)\n",
    "print(one_k)"
   ]
  },
  {
   "cell_type": "code",
   "execution_count": 12,
   "id": "23b1e0c4-1a8c-406f-aa8f-29bb2881a7be",
   "metadata": {},
   "outputs": [],
   "source": [
    "two_patient_dictionary_kinoko = {\n",
    "  \"name\" : \"Kinoko\",\n",
    "  \"year\" : 2021\n",
    "}\n",
    "two_patient_dictionary_dango = {\n",
    "  \"name\" : \"Dango\",\n",
    "  \"year\" : 2019\n",
    "}\n",
    "two_patient_dictionary_mochi  = {\n",
    "  \"name\" : \"Mochi\",\n",
    "  \"year\" : 2020\n",
    "}"
   ]
  },
  {
   "cell_type": "code",
   "execution_count": 13,
   "id": "f4c6ff6e-1c27-44a6-b57c-1e19931cd95e",
   "metadata": {},
   "outputs": [
    {
     "name": "stdout",
     "output_type": "stream",
     "text": [
      "{'two_patient_dictionary_kinoko': {'name': 'Kinoko', 'year': 2021}, 'two_patient_dictionary_dango': {'name': 'Dango', 'year': 2019}, 'two_patient_dictionary_mochi': {'name': 'Mochi', 'year': 2020}}\n"
     ]
    }
   ],
   "source": [
    "two_a = {\n",
    "  \"two_patient_dictionary_kinoko\" : two_patient_dictionary_kinoko,\n",
    "  \"two_patient_dictionary_dango\": two_patient_dictionary_dango,\n",
    "  \"two_patient_dictionary_mochi\" : two_patient_dictionary_mochi\n",
    "}  \n",
    "print(two_a)"
   ]
  },
  {
   "cell_type": "code",
   "execution_count": 14,
   "id": "63830c78-c47b-4564-a55c-8bd99da48899",
   "metadata": {},
   "outputs": [
    {
     "name": "stdout",
     "output_type": "stream",
     "text": [
      "Dango\n"
     ]
    }
   ],
   "source": [
    "two_b = two_patient_dictionary_dango.get('name')\n",
    "print(two_b)"
   ]
  },
  {
   "cell_type": "code",
   "execution_count": 15,
   "id": "bf4b87a2-0b6d-4a94-8761-02c38b88e324",
   "metadata": {},
   "outputs": [
    {
     "name": "stdout",
     "output_type": "stream",
     "text": [
      "{'name': 'Mochi', 'year': 2018}\n"
     ]
    }
   ],
   "source": [
    "two_c = two_patient_dictionary_mochi['year']=2018\n",
    "print(two_patient_dictionary_mochi)"
   ]
  },
  {
   "cell_type": "code",
   "execution_count": 16,
   "id": "e0d9f505-749b-480d-84a2-13c80570bbb2",
   "metadata": {},
   "outputs": [
    {
     "name": "stdout",
     "output_type": "stream",
     "text": [
      "{'Kinoko': 2021, 'Dango': 2019, 'Mochi': 2019}\n"
     ]
    }
   ],
   "source": [
    "two_d = {\"Kinoko\" : 2021 , \"Dango\" : 2019 , \"Mochi\" : 2019}\n",
    "print(two_d)"
   ]
  },
  {
   "cell_type": "code",
   "execution_count": 17,
   "id": "e7efddde-88fa-4db1-94fb-f3003757e2f6",
   "metadata": {},
   "outputs": [
    {
     "name": "stdout",
     "output_type": "stream",
     "text": [
      "['Kinoko', 'Dango', 'Mochi']\n"
     ]
    }
   ],
   "source": [
    "two_e = list(two_d.keys())\n",
    "print(two_e)"
   ]
  },
  {
   "cell_type": "code",
   "execution_count": 18,
   "id": "f1cf80ef-3bed-447f-ad05-cea2c5c9b081",
   "metadata": {},
   "outputs": [
    {
     "name": "stdout",
     "output_type": "stream",
     "text": [
      "[2021, 2019, 2019]\n"
     ]
    }
   ],
   "source": [
    "two_f = list(two_d.values())\n",
    "print(two_f)"
   ]
  },
  {
   "cell_type": "code",
   "execution_count": 19,
   "id": "348a0f1a-9c04-4605-b8a5-efb56a6821ac",
   "metadata": {},
   "outputs": [
    {
     "name": "stdout",
     "output_type": "stream",
     "text": [
      "{'Kinoko': 2021, 'Dango': 2019, 'Mochi': 2019}\n"
     ]
    }
   ],
   "source": [
    "two_g = dict(zip(two_e, two_f))\n",
    "print(two_g)"
   ]
  },
  {
   "cell_type": "code",
   "execution_count": 20,
   "id": "469ad054-a601-4f97-912f-e29378d38e5f",
   "metadata": {},
   "outputs": [],
   "source": [
    "\"\"\"Problem 3: Set combinations\n",
    "\n",
    "Given the predefined sets below and using set methods\n",
    "3.a Is set E a subset of set A\n",
    " .b Is set E a strict subset of set A\n",
    " .c Create a set that is the intersection of set A and set B\n",
    " .d Create a set that is the union of sets C, D and E\n",
    " .e add 9 to the set\n",
    " .f Using == compare this set to the list in one_a\n",
    " .g Explain why they are not the same. What would you need to change if you\n",
    "    wanted this to be True?\n",
    " \"\"\"\n",
    "\n",
    "three_setA = {1,2,3,4,5}\n",
    "three_setB = {2,3,4,5,6}\n",
    "three_setC = {3,5,7,9}\n",
    "three_setD = {2,4,6,8}\n",
    "three_setE = {1,2,3,4}"
   ]
  },
  {
   "cell_type": "code",
   "execution_count": 21,
   "id": "40b03284-6abe-41c8-b054-d40615c3f6fc",
   "metadata": {},
   "outputs": [
    {
     "name": "stdout",
     "output_type": "stream",
     "text": [
      "True\n"
     ]
    }
   ],
   "source": [
    "three_a = three_setE.issubset(three_setA)\n",
    "print(three_a)"
   ]
  },
  {
   "cell_type": "code",
   "execution_count": 22,
   "id": "314900a8-935a-4924-9aec-5e3cfaa9b90e",
   "metadata": {},
   "outputs": [
    {
     "name": "stdout",
     "output_type": "stream",
     "text": [
      "True\n"
     ]
    }
   ],
   "source": [
    "three_b = three_setE  <  three_setA \n",
    "print(three_b)"
   ]
  },
  {
   "cell_type": "code",
   "execution_count": 23,
   "id": "4d15b704-afb5-40bf-8f9a-9da23d494d43",
   "metadata": {},
   "outputs": [
    {
     "name": "stdout",
     "output_type": "stream",
     "text": [
      "{2, 3, 4, 5}\n"
     ]
    }
   ],
   "source": [
    "three_c = three_setA.intersection(three_setB)\n",
    "print(three_c)"
   ]
  },
  {
   "cell_type": "code",
   "execution_count": 24,
   "id": "8234225f-e426-4ee7-86df-e5e642800632",
   "metadata": {},
   "outputs": [
    {
     "name": "stdout",
     "output_type": "stream",
     "text": [
      "{1, 2, 3, 4, 5, 6, 7, 8, 9}\n"
     ]
    }
   ],
   "source": [
    "three_d = three_setC.union(three_setD, three_setE)\n",
    "print(three_d)"
   ]
  },
  {
   "cell_type": "code",
   "execution_count": 25,
   "id": "c296cf69-8352-4581-8165-3d93e820a376",
   "metadata": {},
   "outputs": [
    {
     "name": "stdout",
     "output_type": "stream",
     "text": [
      "{1, 2, 3, 4, 5, 6, 7, 8, 9}\n"
     ]
    }
   ],
   "source": [
    "three_e = three_d.add(9)\n",
    "print(three_d)"
   ]
  },
  {
   "cell_type": "code",
   "execution_count": 26,
   "id": "098036e3-15a7-4cb9-a6e7-70aff475fd51",
   "metadata": {},
   "outputs": [
    {
     "name": "stdout",
     "output_type": "stream",
     "text": [
      "[0, 1, 2, 3, 4, 3, 5, 6, 7, 8, 9]\n",
      "{1, 2, 3, 4, 5, 6, 7, 8, 9}\n"
     ]
    }
   ],
   "source": [
    "three_f = three_d == one_a\n",
    "print(one_a)\n",
    "print(three_d)"
   ]
  },
  {
   "cell_type": "code",
   "execution_count": 27,
   "id": "1156c3e6-ea18-4af1-903c-6e675e6cabc2",
   "metadata": {},
   "outputs": [
    {
     "name": "stdout",
     "output_type": "stream",
     "text": [
      "{1, 2, 3, 4, 5, 6, 7, 8, 9}\n",
      "[0, 1, 2, 3, 4, 3, 5, 6, 7, 8, 9]\n",
      "[1, 2, 3, 4, 5, 6, 7, 8, 9]\n",
      "[0, 1, 2, 3, 4, 5, 6, 7, 8, 9]\n",
      "[0, 1, 2, 3, 4, 5, 6, 7, 8, 9]\n"
     ]
    },
    {
     "data": {
      "text/plain": [
       "True"
      ]
     },
     "execution_count": 27,
     "metadata": {},
     "output_type": "execute_result"
    }
   ],
   "source": [
    "#three_g \n",
    "print(three_d)\n",
    "print(one_a)\n",
    "\n",
    "#They are not the same because three_d is a set and one_a is a list. Also, one_a contains 0 and an extra 3 (index 5)\n",
    "#You could convert three_d to a list\n",
    "three_d = list(three_d)\n",
    "print(three_d)\n",
    "#and then add the integer 0 to index 0 and remove the extra 3 from one_a\n",
    "three_d.insert(0, 0)\n",
    "one_a.pop(5)\n",
    "print(one_a)\n",
    "print(three_d)\n",
    "#now == should return true\n",
    "three_d == one_a"
   ]
  },
  {
   "cell_type": "code",
   "execution_count": null,
   "id": "c28c1a43-fae9-49c7-9997-9b7f48603e67",
   "metadata": {},
   "outputs": [],
   "source": []
  },
  {
   "cell_type": "code",
   "execution_count": 28,
   "id": "73319550-d656-484b-b866-ea5198497943",
   "metadata": {},
   "outputs": [
    {
     "name": "stdout",
     "output_type": "stream",
     "text": [
      "8\n"
     ]
    }
   ],
   "source": [
    "four_a = int(8)\n",
    "print(four_a)"
   ]
  },
  {
   "cell_type": "code",
   "execution_count": 29,
   "id": "e5a0fea1-379d-4e8d-871c-666048e8775b",
   "metadata": {},
   "outputs": [
    {
     "name": "stdout",
     "output_type": "stream",
     "text": [
      "[]\n"
     ]
    },
    {
     "data": {
      "text/plain": [
       "list"
      ]
     },
     "execution_count": 29,
     "metadata": {},
     "output_type": "execute_result"
    }
   ],
   "source": [
    "four_b = list()\n",
    "print(four_b)\n",
    "type(four_b)"
   ]
  },
  {
   "cell_type": "code",
   "execution_count": 30,
   "id": "882b344b-e600-4382-8f30-739a8ca3050b",
   "metadata": {},
   "outputs": [
    {
     "name": "stdout",
     "output_type": "stream",
     "text": [
      "[<class 'int'>]\n"
     ]
    }
   ],
   "source": [
    "four_c = four_b.append(type(four_a))\n",
    "print(four_b)"
   ]
  },
  {
   "cell_type": "code",
   "execution_count": 31,
   "id": "9e1b7418-2c45-457f-9425-4901f26a5082",
   "metadata": {
    "tags": []
   },
   "outputs": [
    {
     "name": "stdout",
     "output_type": "stream",
     "text": [
      "[<class 'int'>, 0.39]\n"
     ]
    }
   ],
   "source": [
    "four_d = four_b.append(0.39)\n",
    "print(four_b)"
   ]
  },
  {
   "cell_type": "code",
   "execution_count": 32,
   "id": "f50c6716-28cd-4c35-9ce7-5eba283486a2",
   "metadata": {},
   "outputs": [
    {
     "name": "stdout",
     "output_type": "stream",
     "text": [
      "[<class 'int'>, 0.39, <class 'float'>]\n"
     ]
    }
   ],
   "source": [
    "four_e = four_b.append(type(0.39))\n",
    "print(four_b)"
   ]
  },
  {
   "cell_type": "code",
   "execution_count": 33,
   "id": "7d238fbb-05e0-4b5b-8b86-6945ad90f50c",
   "metadata": {},
   "outputs": [
    {
     "name": "stdout",
     "output_type": "stream",
     "text": [
      "None\n",
      "[<class 'int'>, 0.39, <class 'float'>, 12284]\n"
     ]
    }
   ],
   "source": [
    "four_f = four_b.append(round(0.39**-10))\n",
    "print(four_f)\n",
    "print(four_b)"
   ]
  },
  {
   "cell_type": "code",
   "execution_count": 34,
   "id": "e12c4fa4-d0ea-4b20-bf56-ddee4d485b86",
   "metadata": {},
   "outputs": [
    {
     "name": "stdout",
     "output_type": "stream",
     "text": [
      "[<class 'int'>, 0.39, <class 'float'>, 12284, <class 'int'>]\n"
     ]
    }
   ],
   "source": [
    "four_g = four_b.append(type(12284))\n",
    "print(four_b)"
   ]
  },
  {
   "cell_type": "code",
   "execution_count": 35,
   "id": "0e77f2dc-f037-4ad6-a004-95b72b052e76",
   "metadata": {},
   "outputs": [
    {
     "data": {
      "text/plain": [
       "'Problem 5: More variable type changes\\n\\nContinue from where you left off in Problem 4.\\n\\n5.a Manually create a dictionary where the values are items in the list from where we left in \\n    problem 4, and the keys should be their index in the list. Print the dictionary.\\n .b Add 300 and coerce it into a string\\n .c append the type to the list\\n .d slice the string up to the 2nd element\\n .e append the type to the list\\n .f use list comprehension to convert this into a new list of integers\\n .g append the type to the list\\n .h append the type of three_setA to the list\\n'"
      ]
     },
     "execution_count": 35,
     "metadata": {},
     "output_type": "execute_result"
    }
   ],
   "source": [
    "\"\"\"Problem 5: More variable type changes\n",
    "\n",
    "Continue from where you left off in Problem 4.\n",
    "\n",
    "5.a Manually create a dictionary where the values are items in the list from where we left in \n",
    "    problem 4, and the keys should be their index in the list. Print the dictionary.\n",
    " .b Add 300 and coerce it into a string\n",
    " .c append the type to the list\n",
    " .d slice the string up to the 2nd element\n",
    " .e append the type to the list\n",
    " .f use list comprehension to convert this into a new list of integers\n",
    " .g append the type to the list\n",
    " .h append the type of three_setA to the list\n",
    "\"\"\""
   ]
  },
  {
   "cell_type": "code",
   "execution_count": 36,
   "id": "b4d3c81a-1809-423a-bba6-badc4b926c71",
   "metadata": {},
   "outputs": [
    {
     "name": "stdout",
     "output_type": "stream",
     "text": [
      "[0, 1, 2, 3, 4, 5]\n",
      "[<class 'int'>, 0.39, <class 'float'>, 12284, <class 'int'>]\n",
      "{<class 'int'>: 4, 0.39: 1, <class 'float'>: 2, 12284: 3}\n"
     ]
    }
   ],
   "source": [
    "indices = [0, 1, 2, 3, 4, 5]\n",
    "print(indices)\n",
    "print(four_b)\n",
    "five_a = dict(zip(four_b, indices))\n",
    "print(five_a)"
   ]
  },
  {
   "cell_type": "code",
   "execution_count": 37,
   "id": "b6c151be-799f-4939-9401-3b3f661cdfd8",
   "metadata": {
    "tags": []
   },
   "outputs": [
    {
     "name": "stdout",
     "output_type": "stream",
     "text": [
      "[<class 'int'>, 0.39, <class 'float'>, 12284, <class 'int'>, '300']\n"
     ]
    }
   ],
   "source": [
    "five_b = four_b.append('300')\n",
    "print(four_b)"
   ]
  },
  {
   "cell_type": "code",
   "execution_count": 38,
   "id": "e562a365-f5a0-4f6e-b5de-2e95778ddd8c",
   "metadata": {},
   "outputs": [
    {
     "name": "stdout",
     "output_type": "stream",
     "text": [
      "[<class 'int'>, 0.39, <class 'float'>, 12284, <class 'int'>, '300', <class 'str'>]\n"
     ]
    }
   ],
   "source": [
    "five_c = four_b.append(type(four_b[5]))\n",
    "print(four_b)"
   ]
  },
  {
   "cell_type": "code",
   "execution_count": 39,
   "id": "0e08f147-de21-484b-b5e4-de599342a1e0",
   "metadata": {},
   "outputs": [
    {
     "name": "stdout",
     "output_type": "stream",
     "text": [
      "30\n"
     ]
    }
   ],
   "source": [
    "five_d = \"300\"[:2]\n",
    "print(five_d)"
   ]
  },
  {
   "cell_type": "code",
   "execution_count": 40,
   "id": "e5f50c59-abc3-453c-a08c-74eff0681413",
   "metadata": {},
   "outputs": [
    {
     "name": "stdout",
     "output_type": "stream",
     "text": [
      "[<class 'int'>, 0.39, <class 'float'>, 12284, <class 'int'>, '300', <class 'str'>, <class 'str'>]\n"
     ]
    }
   ],
   "source": [
    "five_e = four_b.append(type(\"300\"[:2]))\n",
    "print(four_b)"
   ]
  },
  {
   "cell_type": "code",
   "execution_count": 41,
   "id": "f77c9a67-5c53-4103-91e2-9ddb7eae6f72",
   "metadata": {},
   "outputs": [
    {
     "name": "stdout",
     "output_type": "stream",
     "text": [
      "[3, 0]\n"
     ]
    }
   ],
   "source": [
    "five_f = [int(x) for x in five_d]\n",
    "print(five_f)"
   ]
  },
  {
   "cell_type": "code",
   "execution_count": 42,
   "id": "227d28d2-7495-4d5c-bd2c-347db4527a85",
   "metadata": {},
   "outputs": [
    {
     "name": "stdout",
     "output_type": "stream",
     "text": [
      "[<class 'int'>, 0.39, <class 'float'>, 12284, <class 'int'>, '300', <class 'str'>, <class 'str'>, <class 'list'>]\n"
     ]
    }
   ],
   "source": [
    "five_g = four_b.append(type(five_f))\n",
    "print(four_b)"
   ]
  },
  {
   "cell_type": "code",
   "execution_count": 43,
   "id": "b7e7c6f3-c41d-40ef-b686-f8813f3cab3f",
   "metadata": {},
   "outputs": [
    {
     "name": "stdout",
     "output_type": "stream",
     "text": [
      "[<class 'int'>, 0.39, <class 'float'>, 12284, <class 'int'>, '300', <class 'str'>, <class 'str'>, <class 'list'>, <class 'set'>]\n"
     ]
    }
   ],
   "source": [
    "five_h = four_b.append(type(three_setA))\n",
    "print(four_b)"
   ]
  },
  {
   "cell_type": "code",
   "execution_count": null,
   "id": "3ec8a51d-a66b-4293-b86b-e03407cd9914",
   "metadata": {},
   "outputs": [],
   "source": []
  }
 ],
 "metadata": {
  "kernelspec": {
   "display_name": "Python 3 (ipykernel)",
   "language": "python",
   "name": "python3"
  },
  "language_info": {
   "codemirror_mode": {
    "name": "ipython",
    "version": 3
   },
   "file_extension": ".py",
   "mimetype": "text/x-python",
   "name": "python",
   "nbconvert_exporter": "python",
   "pygments_lexer": "ipython3",
   "version": "3.9.12"
  }
 },
 "nbformat": 4,
 "nbformat_minor": 5
}
